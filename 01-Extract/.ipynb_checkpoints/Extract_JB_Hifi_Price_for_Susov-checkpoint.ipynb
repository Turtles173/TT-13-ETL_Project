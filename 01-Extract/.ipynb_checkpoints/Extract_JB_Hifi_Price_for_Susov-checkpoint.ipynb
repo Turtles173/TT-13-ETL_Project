{
 "cells": [
  {
   "cell_type": "code",
   "execution_count": 1,
   "metadata": {},
   "outputs": [],
   "source": [
    "# Dependencies\n",
    "import requests\n",
    "from bs4 import BeautifulSoup as bs\n",
    "from time import sleep\n",
    "import pandas as pd\n",
    "from splinter import Browser\n",
    "from splinter.exceptions import ElementDoesNotExist\n",
    "from selenium.webdriver import ActionChains\n",
    "from webdriver_manager.chrome import ChromeDriverManager"
   ]
  },
  {
   "cell_type": "code",
   "execution_count": 2,
   "metadata": {},
   "outputs": [
    {
     "name": "stderr",
     "output_type": "stream",
     "text": [
      "[WDM] - Current google-chrome version is 84.0.4147\n",
      "[WDM] - Get LATEST driver version for 84.0.4147\n",
      "[WDM] - Driver [C:\\Users\\foong\\.wdm\\drivers\\chromedriver\\win32\\84.0.4147.30\\chromedriver.exe] found in cache\n"
     ]
    },
    {
     "name": "stdout",
     "output_type": "stream",
     "text": [
      " \n"
     ]
    }
   ],
   "source": [
    "executable_path = {'executable_path': ChromeDriverManager().install()}\n",
    "browser = Browser('chrome', **executable_path, headless=False)\n",
    "\n",
    "url = \"https://www.jbhifi.com.au/collections/tvs\"\n",
    "browser.visit(url)"
   ]
  },
  {
   "cell_type": "code",
   "execution_count": 3,
   "metadata": {},
   "outputs": [],
   "source": [
    "# Create function to retrieve url page, create Beautiful Soup object, \n",
    "# parse and get results for loop.\n",
    "\n",
    "\n",
    "    \n",
    "    # Create a Beautiful Soup object; parse with 'html.parser'\n",
    "soup = bs(browser.html, \"html.parser\")\n",
    "\n",
    "    "
   ]
  },
  {
   "cell_type": "code",
   "execution_count": 4,
   "metadata": {},
   "outputs": [],
   "source": [
    "prices = soup.find_all(\"span\", class_='price')"
   ]
  },
  {
   "cell_type": "code",
   "execution_count": 5,
   "metadata": {},
   "outputs": [
    {
     "name": "stdout",
     "output_type": "stream",
     "text": [
      "$4495\n",
      "$1695\n",
      "$1795\n",
      "$349\n",
      "$2295\n",
      "$1495\n",
      "$1195\n",
      "$995\n",
      "$699\n",
      "$599\n",
      "$59\n",
      "$795\n",
      "$595\n",
      "$1495\n",
      "$895\n",
      "$2895\n",
      "$1495\n",
      "$899\n",
      "$299\n",
      "$199\n",
      "$209\n",
      "$249\n",
      "$99\n",
      "$995\n",
      "$1395\n",
      "$495\n",
      "$1195\n",
      "$795\n",
      "$695\n",
      "$1895\n",
      "$995\n",
      "$2295\n",
      "$995\n",
      "$895\n"
     ]
    }
   ],
   "source": [
    "for price in prices:\n",
    "    print(price.text)"
   ]
  },
  {
   "cell_type": "code",
   "execution_count": 6,
   "metadata": {},
   "outputs": [
    {
     "data": {
      "text/plain": [
       "['$4495',\n",
       " '$1695',\n",
       " '$1795',\n",
       " '$349',\n",
       " '$2295',\n",
       " '$1495',\n",
       " '$1195',\n",
       " '$995',\n",
       " '$699',\n",
       " '$599',\n",
       " '$59',\n",
       " '$795',\n",
       " '$595',\n",
       " '$1495',\n",
       " '$895',\n",
       " '$2895',\n",
       " '$1495',\n",
       " '$899',\n",
       " '$299',\n",
       " '$199',\n",
       " '$209',\n",
       " '$249',\n",
       " '$99',\n",
       " '$995',\n",
       " '$1395',\n",
       " '$495',\n",
       " '$1195',\n",
       " '$795',\n",
       " '$695',\n",
       " '$1895',\n",
       " '$995',\n",
       " '$2295',\n",
       " '$995',\n",
       " '$895']"
      ]
     },
     "execution_count": 6,
     "metadata": {},
     "output_type": "execute_result"
    }
   ],
   "source": [
    "price_list = list()\n",
    "\n",
    "for price in prices:\n",
    "    price_list.append(price.text)\n",
    "    \n",
    "price_list"
   ]
  },
  {
   "cell_type": "code",
   "execution_count": 7,
   "metadata": {},
   "outputs": [
    {
     "data": {
      "text/plain": [
       "'4495'"
      ]
     },
     "execution_count": 7,
     "metadata": {},
     "output_type": "execute_result"
    }
   ],
   "source": [
    "soup.select(\"meta[itemprop='price']\")[0][\"content\"]"
   ]
  },
  {
   "cell_type": "code",
   "execution_count": 8,
   "metadata": {},
   "outputs": [
    {
     "data": {
      "text/plain": [
       "34"
      ]
     },
     "execution_count": 8,
     "metadata": {},
     "output_type": "execute_result"
    }
   ],
   "source": [
    "len(price_list)"
   ]
  },
  {
   "cell_type": "code",
   "execution_count": null,
   "metadata": {},
   "outputs": [],
   "source": []
  }
 ],
 "metadata": {
  "kernelspec": {
   "display_name": "Python [conda env:PythonData]",
   "language": "python",
   "name": "conda-env-PythonData-py"
  },
  "language_info": {
   "codemirror_mode": {
    "name": "ipython",
    "version": 3
   },
   "file_extension": ".py",
   "mimetype": "text/x-python",
   "name": "python",
   "nbconvert_exporter": "python",
   "pygments_lexer": "ipython3",
   "version": "3.6.10"
  }
 },
 "nbformat": 4,
 "nbformat_minor": 4
}
